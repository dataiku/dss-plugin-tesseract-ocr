{
 "cells": [
  {
   "cell_type": "code",
   "execution_count": 0,
   "metadata": {},
   "outputs": [
    {
     "name": "stdout",
     "output_type": "stream",
     "text": [
      "Populating the interactive namespace from numpy and matplotlib\n"
     ]
    }
   ],
   "source": [
    "%pylab inline"
   ]
  },
  {
   "cell_type": "code",
   "execution_count": 0,
   "metadata": {},
   "outputs": [],
   "source": [
    "import dataiku\n",
    "from dataiku import pandasutils as pdu\n",
    "import pandas as pd\n",
    "import numpy as np\n",
    "from PIL import Image\n",
    "from io import BytesIO\n",
    "import pytesseract\n",
    "import re\n",
    "import cv2\n",
    "from deskew import determine_skew\n",
    "import math\n",
    "import matplotlib.pyplot as plt"
   ]
  },
  {
   "cell_type": "markdown",
   "metadata": {},
   "source": [
    "### Get folder id"
   ]
  },
  {
   "cell_type": "code",
   "execution_count": 0,
   "metadata": {},
   "outputs": [],
   "source": [
    "client = dataiku.api_client()\n",
    "project_name = dataiku.default_project_key()\n",
    "project = client.get_project(project_name)"
   ]
  },
  {
   "cell_type": "markdown",
   "metadata": {},
   "source": [
    "You can either enter manually your input folder id"
   ]
  },
  {
   "cell_type": "code",
   "execution_count": 0,
   "metadata": {},
   "outputs": [],
   "source": [
    "# Enter manually your input folder id (can be found in the folder URL)\n",
    "input_folder_id = '9KqYNNmD'"
   ]
  },
  {
   "cell_type": "markdown",
   "metadata": {},
   "source": [
    "Or you can just enter your input and output folders name"
   ]
  },
  {
   "cell_type": "code",
   "execution_count": 0,
   "metadata": {},
   "outputs": [],
   "source": [
    "# Retrieve folder id using folder name\n",
    "input_folder_name = 'small-test'\n",
    "input_folder_id_list = [folder['id'] for folder in project.list_managed_folders() if folder['name'] == input_folder_name]\n",
    "if len(input_folder_id_list) > 0:\n",
    "    input_folder_id = input_folder_id_list[0]\n",
    "else:\n",
    "    print(\"Wrong input folder name\")"
   ]
  },
  {
   "cell_type": "markdown",
   "metadata": {},
   "source": [
    "### Some image processing functions\n",
    "Here are the defintion of some image processing functions, you can add more functions and/or modify the existing ones"
   ]
  },
  {
   "cell_type": "code",
   "execution_count": 0,
   "metadata": {},
   "outputs": [],
   "source": [
    "# noise removal\n",
    "def blurring(image):\n",
    "    return cv2.medianBlur(image,5)\n",
    " \n",
    "#thresholding\n",
    "def thresholding(image):\n",
    "    return cv2.threshold(image, 0, 255, cv2.THRESH_BINARY + cv2.THRESH_OTSU)[1]\n",
    "\n",
    "#dilation\n",
    "def dilate(image):\n",
    "    kernel = np.ones((5,5),np.uint8)\n",
    "    return cv2.dilate(image, kernel, iterations = 1)\n",
    "    \n",
    "#erosion\n",
    "def erode(image):\n",
    "    kernel = np.ones((5,5),np.uint8)\n",
    "    return cv2.erode(image, kernel, iterations = 1)\n",
    "\n",
    "#opening - erosion followed by dilation\n",
    "def opening(image):\n",
    "    kernel = np.ones((5,5),np.uint8)\n",
    "    return cv2.morphologyEx(image, cv2.MORPH_OPEN, kernel)\n",
    "\n",
    "#canny edge detection\n",
    "def canny(image):\n",
    "    return cv2.Canny(image, 100, 200)"
   ]
  },
  {
   "cell_type": "code",
   "execution_count": 0,
   "metadata": {},
   "outputs": [],
   "source": [
    "#deskew image based on skew angle found by package deskew\n",
    "def deskew(image):\n",
    "    def _rotate(image, angle):\n",
    "        old_width, old_height = image.shape[:2]\n",
    "        angle_radian = math.radians(angle)\n",
    "        width = abs(np.sin(angle_radian) * old_height) + abs(np.cos(angle_radian) * old_width)\n",
    "        height = abs(np.sin(angle_radian) * old_width) + abs(np.cos(angle_radian) * old_height)\n",
    "\n",
    "        image_center = tuple(np.array(image.shape[1::-1]) / 2)\n",
    "        rot_mat = cv2.getRotationMatrix2D(image_center, angle, 1.0)\n",
    "        rot_mat[1, 2] += (width - old_width) / 2\n",
    "        rot_mat[0, 2] += (height - old_height) / 2\n",
    "        return cv2.warpAffine(image, rot_mat, (int(round(height)), int(round(width))))\n",
    "    \n",
    "    angle = determine_skew(image)\n",
    "    return _rotate(image, angle)   "
   ]
  },
  {
   "cell_type": "markdown",
   "metadata": {},
   "source": [
    "### Test processing on some images\n",
    "Before running the recipe, you can explore what image processing do to your images and their text extraction\n",
    "First we get the folder object and the filenames of the images"
   ]
  },
  {
   "cell_type": "code",
   "execution_count": 0,
   "metadata": {},
   "outputs": [],
   "source": [
    "input_folder = dataiku.Folder(input_folder_id)\n",
    "input_filenames = input_folder.list_paths_in_partition()"
   ]
  },
  {
   "cell_type": "markdown",
   "metadata": {},
   "source": [
    "#### Select index of image on which you want to test processing\n",
    "Here you can print the filenames and their corresponding indexes so you can choose some specific images to try some processing functions"
   ]
  },
  {
   "cell_type": "code",
   "execution_count": 0,
   "metadata": {},
   "outputs": [],
   "source": [
    "for idx, filename in enumerate(input_filenames):\n",
    "    print(\"Index: %s => Filename: %s\" % (idx, filename))"
   ]
  },
  {
   "cell_type": "markdown",
   "metadata": {},
   "source": [
    "Choose an image index to test processing on it"
   ]
  },
  {
   "cell_type": "code",
   "execution_count": 0,
   "metadata": {},
   "outputs": [],
   "source": [
    "test_index = 1"
   ]
  },
  {
   "cell_type": "markdown",
   "metadata": {},
   "source": [
    "Here we read the image into a numpy array 'before_image'"
   ]
  },
  {
   "cell_type": "code",
   "execution_count": 0,
   "metadata": {},
   "outputs": [],
   "source": [
    "test_file = input_filenames[test_index]\n",
    "with input_folder.get_download_stream(test_file) as stream:\n",
    "    data = stream.readlines()\n",
    "before_image = np.array(Image.open(BytesIO(b\"\".join(data))))"
   ]
  },
  {
   "cell_type": "markdown",
   "metadata": {},
   "source": [
    "#### Transform image using processing function\n",
    "Here you can apply multiple processing functions on 'before_image' to get a 'after_image' that has been processed"
   ]
  },
  {
   "cell_type": "code",
   "execution_count": 0,
   "metadata": {},
   "outputs": [],
   "source": [
    "after_image = before_image\n",
    "# after_image = blurring(after_image)\n",
    "# after_image = thresholding(after_image)\n",
    "# after_image = deskew(after_image)"
   ]
  },
  {
   "cell_type": "markdown",
   "metadata": {},
   "source": [
    "#### Visualizing the image processing"
   ]
  },
  {
   "cell_type": "code",
   "execution_count": 0,
   "metadata": {},
   "outputs": [],
   "source": [
    "def display_images_before_after(before_image, after_image):\n",
    "    fig, ax = plt.subplots(1,2, figsize=(50,100))\n",
    "    ax[0].axis('off')\n",
    "    ax[1].axis('off')\n",
    "    ax[0].imshow(before_image, cmap='Greys_r')\n",
    "    ax[1].imshow(after_image, cmap='Greys_r')"
   ]
  },
  {
   "cell_type": "markdown",
   "metadata": {},
   "source": [
    "You can visualize side by side the 'before' and 'after' processing images "
   ]
  },
  {
   "cell_type": "code",
   "execution_count": 0,
   "metadata": {},
   "outputs": [],
   "source": [
    "# display_images_before_after(before_image, after_image)"
   ]
  },
  {
   "cell_type": "code",
   "execution_count": 0,
   "metadata": {},
   "outputs": [],
   "source": [
    "#### Analyse the impact on text extraction"
   ]
  },
  {
   "cell_type": "code",
   "execution_count": 0,
   "metadata": {},
   "outputs": [],
   "source": [
    "def text_extraction_before_after(before_image, after_image):\n",
    "    before_text = pytesseract.image_to_string(before_image)\n",
    "    after_text = pytesseract.image_to_string(after_image)\n",
    "    \n",
    "    data = {'before':[before_text],'after':[after_text]}\n",
    "    df = pd.DataFrame.from_dict(data)\n",
    "    \n",
    "    pd.options.display.max_rows\n",
    "    pd.set_option('display.max_colwidth', -1)\n",
    "    \n",
    "    return df[['before','after']]"
   ]
  },
  {
   "cell_type": "markdown",
   "metadata": {},
   "source": [
    "You can see the extracted text 'before' and 'after' processing images"
   ]
  },
  {
   "cell_type": "code",
   "execution_count": 0,
   "metadata": {},
   "outputs": [],
   "source": [
    "# text_extraction_before_after(before_image, after_image)"
   ]
  },
  {
   "cell_type": "markdown",
   "metadata": {},
   "source": [
    "### Run processing on all images\n",
    "Once you have chosen the processing to apply to the images, you need to add the functions here so you can run this notebook as a recipe"
   ]
  },
  {
   "cell_type": "code",
   "execution_count": 0,
   "metadata": {},
   "outputs": [],
   "source": [
    "def final_processing(before_image):\n",
    "    # add the right functions here\n",
    "    \n",
    "    after_image = before_image\n",
    "    after_image = blurring(after_image)\n",
    "    # after_image = thresholding(after_image)\n",
    "    # after_image = deskew(after_image)\n",
    "    \n",
    "    return after_image"
   ]
  },
  {
   "cell_type": "markdown",
   "metadata": {},
   "source": [
    "Enter your output folder id here:"
   ]
  },
  {
   "cell_type": "code",
   "execution_count": 0,
   "metadata": {},
   "outputs": [],
   "source": [
    "output_folder_id = \"\""
   ]
  },
  {
   "cell_type": "markdown",
   "metadata": {},
   "source": [
    "Here is the final script that process the images and write them into the output folder"
   ]
  },
  {
   "cell_type": "code",
   "execution_count": 0,
   "metadata": {},
   "outputs": [],
   "source": [
    "input_folder = dataiku.Folder(input_folder_id)\n",
    "input_filenames = input_folder.list_paths_in_partition()\n",
    "output_folder = dataiku.Folder(output_folder_id)\n",
    "\n",
    "for sample_file in input_filenames:\n",
    "    if sample_file.split('.')[-1] != \"jpg\":\n",
    "        continue\n",
    "\n",
    "    with input_folder.get_download_stream(sample_file) as stream:\n",
    "        data = stream.readlines()\n",
    "    before_image = np.array(Image.open(BytesIO(b\"\".join(data))))\n",
    "\n",
    "    after_image = final_processing(before_image)\n",
    "    \n",
    "    buf = BytesIO()\n",
    "    Image.fromarray(after_image).save(buf, format='JPEG')\n",
    "    img_bytes = buf.getvalue()\n",
    "\n",
    "    output_folder.upload_data(sample_file, img_bytes)"
   ]
  }
 ],
 "metadata": {
  "creator": "admin",
  "customFields": {},
  "kernelspec": {
   "display_name": "Python (env tesseract_36)",
   "language": "python",
   "name": "py-dku-venv-tesseract_36"
  },
  "language_info": {
   "codemirror_mode": {
    "name": "ipython",
    "version": 3
   },
   "file_extension": ".py",
   "mimetype": "text/x-python",
   "name": "python",
   "nbconvert_exporter": "python",
   "pygments_lexer": "ipython3",
   "version": "3.6.9"
  },
  "tags": []
 },
 "nbformat": 4,
 "nbformat_minor": 1
}
